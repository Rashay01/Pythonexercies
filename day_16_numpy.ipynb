{
 "cells": [
  {
   "cell_type": "markdown",
   "metadata": {},
   "source": [
    "Data analyst & Data Scientist \n",
    "\n",
    "- SQL\n",
    "- One shot \n",
    "- Programmers - MNC\n",
    "- Power BI - charts\n",
    "\n",
    "\n",
    "Data Scientist: - doing experiemnts in real life \n",
    "- excel\n",
    "- Line by line(step)\n",
    "- Python - numpy, pandas\n",
    "- Scikit - Data prediction\n",
    "- Matplot, seaborn - Charts"
   ]
  },
  {
   "cell_type": "markdown",
   "metadata": {},
   "source": [
    "### Install numpy in your myenv\n",
    "\n",
    "%pip install numpy"
   ]
  },
  {
   "cell_type": "code",
   "execution_count": 3,
   "metadata": {},
   "outputs": [],
   "source": [
    "import numpy as np\n"
   ]
  },
  {
   "cell_type": "markdown",
   "metadata": {},
   "source": [
    "## Numpy\n",
    "- Works with arrays\n",
    "- performance\n",
    "- C language\n",
    "- statstical orientated - mean, mode, standard deviation (std)  "
   ]
  },
  {
   "cell_type": "markdown",
   "metadata": {},
   "source": [
    "## Shortcuts\n",
    "- crtl + alt + enter --> run cell\n",
    "- shift + enter --> move to next cell\n",
    "- alt + enter --> run cell and move to next cell"
   ]
  },
  {
   "cell_type": "code",
   "execution_count": 24,
   "metadata": {},
   "outputs": [
    {
     "name": "stdout",
     "output_type": "stream",
     "text": [
      "list:  [90, 80, 20, 40, 90, 80, 20, 40]\n",
      "array:  [180 160  40  80]\n"
     ]
    }
   ],
   "source": [
    "marks_list = [90, 80, 20, 40]\n",
    "print(\"list: \",marks_list*2)\n",
    "\n",
    "marks = np.array([90, 80, 20, 40])\n",
    "print(\"array: \",marks*2)"
   ]
  },
  {
   "cell_type": "markdown",
   "metadata": {},
   "source": [
    "Python way to double list"
   ]
  },
  {
   "cell_type": "code",
   "execution_count": 26,
   "metadata": {},
   "outputs": [
    {
     "data": {
      "text/plain": [
       "[180, 160, 40, 80]"
      ]
     },
     "execution_count": 26,
     "metadata": {},
     "output_type": "execute_result"
    }
   ],
   "source": [
    "double_marks = list(map(lambda x: x*2, marks_list))\n",
    "double_marks"
   ]
  },
  {
   "cell_type": "code",
   "execution_count": 27,
   "metadata": {},
   "outputs": [
    {
     "data": {
      "text/plain": [
       "[180, 160, 40, 80]"
      ]
     },
     "execution_count": 27,
     "metadata": {},
     "output_type": "execute_result"
    }
   ],
   "source": [
    "double_marks_list2 =[x*2 for x in marks_list]\n",
    "double_marks_list2"
   ]
  }
 ],
 "metadata": {
  "kernelspec": {
   "display_name": "myenv",
   "language": "python",
   "name": "python3"
  },
  "language_info": {
   "codemirror_mode": {
    "name": "ipython",
    "version": 3
   },
   "file_extension": ".py",
   "mimetype": "text/x-python",
   "name": "python",
   "nbconvert_exporter": "python",
   "pygments_lexer": "ipython3",
   "version": "3.10.8"
  }
 },
 "nbformat": 4,
 "nbformat_minor": 2
}
