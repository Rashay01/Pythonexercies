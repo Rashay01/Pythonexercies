{
 "cells": [
  {
   "cell_type": "code",
   "execution_count": 2,
   "metadata": {},
   "outputs": [],
   "source": [
    "import requests"
   ]
  },
  {
   "cell_type": "code",
   "execution_count": 3,
   "metadata": {},
   "outputs": [
    {
     "name": "stderr",
     "output_type": "stream",
     "text": [
      "c:\\Users\\E1005290\\OneDrive - Sanlam Life Insurance Limited\\Documents\\projects\\Pythonexercies\\myenv\\lib\\site-packages\\urllib3\\connectionpool.py:1103: InsecureRequestWarning: Unverified HTTPS request is being made to host 'restcountries.com'. Adding certificate verification is strongly advised. See: https://urllib3.readthedocs.io/en/latest/advanced-usage.html#tls-warnings\n",
      "  warnings.warn(\n"
     ]
    },
    {
     "data": {
      "text/plain": [
       "list"
      ]
     },
     "execution_count": 3,
     "metadata": {},
     "output_type": "execute_result"
    }
   ],
   "source": [
    "url = \"https://restcountries.com/v3.1/all\"\n",
    "response = requests.get(url, verify=False)\n",
    "\n",
    "countries = response.json() # JSON --> List\n",
    "type(countries)"
   ]
  },
  {
   "cell_type": "code",
   "execution_count": 4,
   "metadata": {},
   "outputs": [
    {
     "data": {
      "text/plain": [
       "{'name': {'common': 'Eritrea',\n",
       "  'official': 'State of Eritrea',\n",
       "  'nativeName': {'ara': {'official': 'دولة إرتريا', 'common': 'إرتريا\\u200e'},\n",
       "   'eng': {'official': 'State of Eritrea', 'common': 'Eritrea'},\n",
       "   'tir': {'official': 'ሃገረ ኤርትራ', 'common': 'ኤርትራ'}}},\n",
       " 'tld': ['.er'],\n",
       " 'cca2': 'ER',\n",
       " 'ccn3': '232',\n",
       " 'cca3': 'ERI',\n",
       " 'cioc': 'ERI',\n",
       " 'independent': True,\n",
       " 'status': 'officially-assigned',\n",
       " 'unMember': True,\n",
       " 'currencies': {'ERN': {'name': 'Eritrean nakfa', 'symbol': 'Nfk'}},\n",
       " 'idd': {'root': '+2', 'suffixes': ['91']},\n",
       " 'capital': ['Asmara'],\n",
       " 'altSpellings': ['ER',\n",
       "  'State of Eritrea',\n",
       "  'ሃገረ ኤርትራ',\n",
       "  'Dawlat Iritriyá',\n",
       "  'ʾErtrā',\n",
       "  'Iritriyā'],\n",
       " 'region': 'Africa',\n",
       " 'subregion': 'Eastern Africa',\n",
       " 'languages': {'ara': 'Arabic', 'eng': 'English', 'tir': 'Tigrinya'},\n",
       " 'translations': {'ara': {'official': 'دولة إريتريا', 'common': 'إريتريا'},\n",
       "  'bre': {'official': 'Stad Eritrea', 'common': 'Eritrea'},\n",
       "  'ces': {'official': 'Stát Eritrea', 'common': 'Eritrea'},\n",
       "  'cym': {'official': 'Gwladwriaeth Eritrea', 'common': 'Eritrea'},\n",
       "  'deu': {'official': 'Staat Eritrea', 'common': 'Eritrea'},\n",
       "  'est': {'official': 'Eritrea Riik', 'common': 'Eritrea'},\n",
       "  'fin': {'official': 'Eritrean valtio', 'common': 'Eritrea'},\n",
       "  'fra': {'official': \"État d'Érythrée\", 'common': 'Érythrée'},\n",
       "  'hrv': {'official': 'Država Eritreji', 'common': 'Eritreja'},\n",
       "  'hun': {'official': 'Eritrea', 'common': 'Eritrea'},\n",
       "  'ita': {'official': 'Stato di Eritrea', 'common': 'Eritrea'},\n",
       "  'jpn': {'official': 'エリトリア国', 'common': 'エリトリア'},\n",
       "  'kor': {'official': '에리트레아국', 'common': '에리트레아'},\n",
       "  'nld': {'official': 'Staat Eritrea', 'common': 'Eritrea'},\n",
       "  'per': {'official': 'جمهوری اریتره', 'common': 'اریتره'},\n",
       "  'pol': {'official': 'Państwo Erytrea', 'common': 'Erytrea'},\n",
       "  'por': {'official': 'Estado da Eritreia', 'common': 'Eritreia'},\n",
       "  'rus': {'official': 'Государство Эритрея', 'common': 'Эритрея'},\n",
       "  'slk': {'official': 'Eritrejský štát', 'common': 'Eritrea'},\n",
       "  'spa': {'official': 'Estado de Eritrea', 'common': 'Eritrea'},\n",
       "  'srp': {'official': 'Држава Еритреја', 'common': 'Еритреја'},\n",
       "  'swe': {'official': 'Staten Eritrea', 'common': 'Eritrea'},\n",
       "  'tur': {'official': 'Eritre Devleti', 'common': 'Eritre'},\n",
       "  'urd': {'official': 'ریاستِ ارتریا', 'common': 'ارتریا'},\n",
       "  'zho': {'official': '厄立特里亚', 'common': '厄立特里亚'}},\n",
       " 'latlng': [15.0, 39.0],\n",
       " 'landlocked': False,\n",
       " 'borders': ['DJI', 'ETH', 'SDN'],\n",
       " 'area': 117600.0,\n",
       " 'demonyms': {'eng': {'f': 'Eritrean', 'm': 'Eritrean'},\n",
       "  'fra': {'f': 'Érythréenne', 'm': 'Érythréen'}},\n",
       " 'flag': '🇪🇷',\n",
       " 'maps': {'googleMaps': 'https://goo.gl/maps/HRyqUpnPwwG6jY5j6',\n",
       "  'openStreetMaps': 'https://www.openstreetmap.org/relation/296961'},\n",
       " 'population': 5352000,\n",
       " 'fifa': 'ERI',\n",
       " 'car': {'signs': ['ER'], 'side': 'right'},\n",
       " 'timezones': ['UTC+03:00'],\n",
       " 'continents': ['Africa'],\n",
       " 'flags': {'png': 'https://flagcdn.com/w320/er.png',\n",
       "  'svg': 'https://flagcdn.com/er.svg',\n",
       "  'alt': 'The flag of Eritrea comprises three triangles — a large red isosceles triangle with its base spanning the hoist end and its apex at the midpoint on the fly end, and a green and blue right-angled triangle above and beneath the red triangle. On the hoist side of the red triangle is a golden vertical olive branch encircled by a golden olive wreath.'},\n",
       " 'coatOfArms': {'png': 'https://mainfacts.com/media/images/coats_of_arms/er.png',\n",
       "  'svg': 'https://mainfacts.com/media/images/coats_of_arms/er.svg'},\n",
       " 'startOfWeek': 'monday',\n",
       " 'capitalInfo': {'latlng': [15.33, 38.93]}}"
      ]
     },
     "execution_count": 4,
     "metadata": {},
     "output_type": "execute_result"
    }
   ],
   "source": [
    "countries[1]"
   ]
  },
  {
   "cell_type": "markdown",
   "metadata": {},
   "source": [
    "## Task\n",
    "print all the countries names \n",
    "['Cyprus',]"
   ]
  },
  {
   "cell_type": "code",
   "execution_count": 5,
   "metadata": {},
   "outputs": [
    {
     "data": {
      "text/plain": [
       "['Cyprus',\n",
       " 'Eritrea',\n",
       " 'Liberia',\n",
       " 'Bermuda',\n",
       " 'Vatican City',\n",
       " 'Cook Islands',\n",
       " 'Somalia',\n",
       " 'Zambia',\n",
       " 'Venezuela',\n",
       " 'Turkmenistan',\n",
       " 'Albania',\n",
       " 'Croatia',\n",
       " 'United Kingdom',\n",
       " 'Sudan',\n",
       " 'Timor-Leste',\n",
       " 'Republic of the Congo',\n",
       " 'Azerbaijan',\n",
       " 'Kenya',\n",
       " 'American Samoa',\n",
       " 'Ivory Coast',\n",
       " 'Senegal',\n",
       " 'Vietnam',\n",
       " 'El Salvador',\n",
       " 'Afghanistan',\n",
       " 'Saint Martin',\n",
       " 'Latvia',\n",
       " 'Guatemala',\n",
       " 'Kuwait',\n",
       " 'São Tomé and Príncipe',\n",
       " 'Kyrgyzstan',\n",
       " 'Poland',\n",
       " 'Guam',\n",
       " 'Ghana',\n",
       " 'Lithuania',\n",
       " 'Armenia',\n",
       " 'Jersey',\n",
       " 'Grenada',\n",
       " 'Tajikistan',\n",
       " 'Ethiopia',\n",
       " 'Western Sahara',\n",
       " 'Morocco',\n",
       " 'Puerto Rico',\n",
       " 'Christmas Island',\n",
       " 'New Zealand',\n",
       " 'Brunei',\n",
       " 'French Guiana',\n",
       " 'Niue',\n",
       " 'Romania',\n",
       " 'Svalbard and Jan Mayen',\n",
       " 'Belarus',\n",
       " 'Panama',\n",
       " 'Cameroon',\n",
       " 'Czechia',\n",
       " 'Saint Barthélemy',\n",
       " 'Greece',\n",
       " 'Mali',\n",
       " 'Martinique',\n",
       " 'France',\n",
       " 'Pakistan',\n",
       " 'Peru',\n",
       " 'Barbados',\n",
       " 'Greenland',\n",
       " 'Saint Pierre and Miquelon',\n",
       " 'Chad',\n",
       " 'Hungary',\n",
       " 'Comoros',\n",
       " 'Bangladesh',\n",
       " 'Tokelau',\n",
       " 'Fiji',\n",
       " 'China',\n",
       " 'Colombia',\n",
       " 'British Virgin Islands',\n",
       " 'Algeria',\n",
       " 'Maldives',\n",
       " 'Malaysia',\n",
       " 'Cayman Islands',\n",
       " 'Spain',\n",
       " 'Ireland',\n",
       " 'Estonia',\n",
       " 'Paraguay',\n",
       " 'Uruguay',\n",
       " 'South Africa',\n",
       " 'Saint Lucia',\n",
       " 'Vanuatu',\n",
       " 'Finland',\n",
       " 'Sweden',\n",
       " 'British Indian Ocean Territory',\n",
       " 'Lebanon',\n",
       " 'United States',\n",
       " 'Chile',\n",
       " 'Norfolk Island',\n",
       " 'Montserrat',\n",
       " 'Australia',\n",
       " 'Belize',\n",
       " 'Guyana',\n",
       " 'Mongolia',\n",
       " 'Tuvalu',\n",
       " 'Dominican Republic',\n",
       " 'Equatorial Guinea',\n",
       " 'Saint Kitts and Nevis',\n",
       " 'Bolivia',\n",
       " 'Nepal',\n",
       " 'French Southern and Antarctic Lands',\n",
       " 'Taiwan',\n",
       " 'Benin',\n",
       " 'Bulgaria',\n",
       " 'Moldova',\n",
       " 'Isle of Man',\n",
       " 'Bhutan',\n",
       " 'Cambodia',\n",
       " 'Antigua and Barbuda',\n",
       " 'Haiti',\n",
       " 'Cape Verde',\n",
       " 'Georgia',\n",
       " 'Burundi',\n",
       " 'Bahamas',\n",
       " 'Mauritius',\n",
       " 'Libya',\n",
       " 'Malawi',\n",
       " 'Mexico',\n",
       " 'Eswatini',\n",
       " 'Papua New Guinea',\n",
       " 'Dominica',\n",
       " 'Liechtenstein',\n",
       " 'Russia',\n",
       " 'Israel',\n",
       " 'Singapore',\n",
       " 'Uganda',\n",
       " 'Slovakia',\n",
       " 'Tonga',\n",
       " 'United Arab Emirates',\n",
       " 'Mayotte',\n",
       " 'Suriname',\n",
       " 'Uzbekistan',\n",
       " 'Saudi Arabia',\n",
       " 'Egypt',\n",
       " 'Italy',\n",
       " 'Madagascar',\n",
       " 'New Caledonia',\n",
       " 'Canada',\n",
       " 'United States Virgin Islands',\n",
       " 'Marshall Islands',\n",
       " 'Mauritania',\n",
       " 'Gambia',\n",
       " 'Trinidad and Tobago',\n",
       " 'Seychelles',\n",
       " 'Japan',\n",
       " 'Brazil',\n",
       " 'Syria',\n",
       " 'Saint Helena, Ascension and Tristan da Cunha',\n",
       " 'Tanzania',\n",
       " 'Andorra',\n",
       " 'Iran',\n",
       " 'Togo',\n",
       " 'Malta',\n",
       " 'South Korea',\n",
       " 'Samoa',\n",
       " 'Germany',\n",
       " 'Niger',\n",
       " 'Bouvet Island',\n",
       " 'Jamaica',\n",
       " 'Nicaragua',\n",
       " 'Guinea',\n",
       " 'Anguilla',\n",
       " 'Åland Islands',\n",
       " 'Belgium',\n",
       " 'Portugal',\n",
       " 'Denmark',\n",
       " 'Philippines',\n",
       " 'Wallis and Futuna',\n",
       " 'Austria',\n",
       " 'Guinea-Bissau',\n",
       " 'Monaco',\n",
       " 'Namibia',\n",
       " 'United States Minor Outlying Islands',\n",
       " 'Costa Rica',\n",
       " 'Bosnia and Herzegovina',\n",
       " 'Macau',\n",
       " 'Mozambique',\n",
       " 'Réunion',\n",
       " 'Montenegro',\n",
       " 'North Korea',\n",
       " 'Northern Mariana Islands',\n",
       " 'Ukraine',\n",
       " 'Iraq',\n",
       " 'South Georgia',\n",
       " 'Angola',\n",
       " 'Sierra Leone',\n",
       " 'Micronesia',\n",
       " 'Cuba',\n",
       " 'Turks and Caicos Islands',\n",
       " 'Serbia',\n",
       " 'Ecuador',\n",
       " 'Faroe Islands',\n",
       " 'Antarctica',\n",
       " 'Palestine',\n",
       " 'Turkey',\n",
       " 'Kiribati',\n",
       " 'Kazakhstan',\n",
       " 'Gibraltar',\n",
       " 'Iceland',\n",
       " 'Palau',\n",
       " 'Qatar',\n",
       " 'Switzerland',\n",
       " 'French Polynesia',\n",
       " 'Pitcairn Islands',\n",
       " 'Jordan',\n",
       " 'Myanmar',\n",
       " 'Thailand',\n",
       " 'Caribbean Netherlands',\n",
       " 'Aruba',\n",
       " 'Guadeloupe',\n",
       " 'Nigeria',\n",
       " 'Bahrain',\n",
       " 'Laos',\n",
       " 'Cocos (Keeling) Islands',\n",
       " 'Djibouti',\n",
       " 'Solomon Islands',\n",
       " 'Heard Island and McDonald Islands',\n",
       " 'India',\n",
       " 'San Marino',\n",
       " 'Luxembourg',\n",
       " 'Sint Maarten',\n",
       " 'Falkland Islands',\n",
       " 'Central African Republic',\n",
       " 'Botswana',\n",
       " 'Curaçao',\n",
       " 'Guernsey',\n",
       " 'Norway',\n",
       " 'Gabon',\n",
       " 'Zimbabwe',\n",
       " 'Lesotho',\n",
       " 'Slovenia',\n",
       " 'Argentina',\n",
       " 'Burkina Faso',\n",
       " 'Yemen',\n",
       " 'DR Congo',\n",
       " 'Oman',\n",
       " 'Indonesia',\n",
       " 'Nauru',\n",
       " 'Rwanda',\n",
       " 'North Macedonia',\n",
       " 'Kosovo',\n",
       " 'Netherlands',\n",
       " 'Tunisia',\n",
       " 'South Sudan',\n",
       " 'Honduras',\n",
       " 'Saint Vincent and the Grenadines',\n",
       " 'Sri Lanka',\n",
       " 'Hong Kong']"
      ]
     },
     "execution_count": 5,
     "metadata": {},
     "output_type": "execute_result"
    }
   ],
   "source": [
    "all_countries_names =[ country['name']['common'] for country in countries]\n",
    "all_countries_names"
   ]
  },
  {
   "cell_type": "markdown",
   "metadata": {},
   "source": [
    "# Task 2 \n",
    "population more than 10_000_000 and sorted by population"
   ]
  },
  {
   "cell_type": "code",
   "execution_count": 13,
   "metadata": {},
   "outputs": [
    {
     "data": {
      "text/plain": [
       "['China',\n",
       " 'India',\n",
       " 'United States',\n",
       " 'Indonesia',\n",
       " 'Pakistan',\n",
       " 'Brazil',\n",
       " 'Nigeria',\n",
       " 'Bangladesh',\n",
       " 'Russia',\n",
       " 'Mexico',\n",
       " 'Japan',\n",
       " 'Ethiopia',\n",
       " 'Philippines',\n",
       " 'DR Congo',\n",
       " 'Egypt',\n",
       " 'Vietnam',\n",
       " 'Turkey',\n",
       " 'Iran',\n",
       " 'Germany',\n",
       " 'Thailand',\n",
       " 'France',\n",
       " 'United Kingdom',\n",
       " 'Tanzania',\n",
       " 'Italy',\n",
       " 'South Africa',\n",
       " 'Myanmar',\n",
       " 'Kenya',\n",
       " 'South Korea',\n",
       " 'Colombia',\n",
       " 'Spain',\n",
       " 'Uganda',\n",
       " 'Argentina',\n",
       " 'Algeria',\n",
       " 'Ukraine',\n",
       " 'Sudan',\n",
       " 'Iraq',\n",
       " 'Afghanistan',\n",
       " 'Canada',\n",
       " 'Poland',\n",
       " 'Morocco',\n",
       " 'Saudi Arabia',\n",
       " 'Uzbekistan',\n",
       " 'Peru',\n",
       " 'Angola',\n",
       " 'Malaysia',\n",
       " 'Mozambique',\n",
       " 'Ghana',\n",
       " 'Yemen',\n",
       " 'Nepal',\n",
       " 'Venezuela',\n",
       " 'Madagascar',\n",
       " 'Cameroon',\n",
       " 'Ivory Coast',\n",
       " 'North Korea',\n",
       " 'Australia',\n",
       " 'Niger',\n",
       " 'Taiwan',\n",
       " 'Sri Lanka',\n",
       " 'Burkina Faso',\n",
       " 'Mali',\n",
       " 'Romania',\n",
       " 'Malawi',\n",
       " 'Chile',\n",
       " 'Kazakhstan',\n",
       " 'Zambia',\n",
       " 'Ecuador',\n",
       " 'Syria',\n",
       " 'Guatemala',\n",
       " 'Senegal',\n",
       " 'Cambodia',\n",
       " 'Netherlands',\n",
       " 'Chad',\n",
       " 'Somalia',\n",
       " 'Zimbabwe',\n",
       " 'Guinea',\n",
       " 'Rwanda',\n",
       " 'Benin',\n",
       " 'Burundi',\n",
       " 'Tunisia',\n",
       " 'Bolivia',\n",
       " 'Belgium',\n",
       " 'Haiti',\n",
       " 'Cuba',\n",
       " 'South Sudan',\n",
       " 'Dominican Republic',\n",
       " 'Greece',\n",
       " 'Czechia',\n",
       " 'Sweden',\n",
       " 'Portugal',\n",
       " 'Jordan',\n",
       " 'Azerbaijan']"
      ]
     },
     "execution_count": 13,
     "metadata": {},
     "output_type": "execute_result"
    }
   ],
   "source": [
    "sorted_countries = sorted(countries,key=lambda x: x['population'],reverse=True)\n",
    "all_countries_names =[ country['name']['common'] for country in sorted_countries if country['population']>10_000_000]\n",
    "all_countries_names"
   ]
  },
  {
   "cell_type": "markdown",
   "metadata": {},
   "source": [
    "# Task 3\n",
    "Complete using data frame"
   ]
  },
  {
   "cell_type": "code",
   "execution_count": 15,
   "metadata": {},
   "outputs": [],
   "source": [
    "import pandas as pd"
   ]
  },
  {
   "cell_type": "code",
   "execution_count": 50,
   "metadata": {},
   "outputs": [
    {
     "data": {
      "text/plain": [
       "0                                Cyprus\n",
       "1                               Eritrea\n",
       "2                               Liberia\n",
       "3                               Bermuda\n",
       "4                          Vatican City\n",
       "                     ...               \n",
       "245                         South Sudan\n",
       "246                            Honduras\n",
       "247    Saint Vincent and the Grenadines\n",
       "248                           Sri Lanka\n",
       "249                           Hong Kong\n",
       "Length: 250, dtype: object"
      ]
     },
     "execution_count": 50,
     "metadata": {},
     "output_type": "execute_result"
    }
   ],
   "source": [
    "out = pd.DataFrame(countries)\n",
    "ans = pd.DataFrame(list(out['name'])).unstack()['common']\n",
    "ans"
   ]
  },
  {
   "cell_type": "code",
   "execution_count": 54,
   "metadata": {},
   "outputs": [
    {
     "data": {
      "text/plain": [
       "0      {'common': 'Cyprus', 'official': 'Republic of ...\n",
       "1      {'common': 'Eritrea', 'official': 'State of Er...\n",
       "2      {'common': 'Liberia', 'official': 'Republic of...\n",
       "3      {'common': 'Bermuda', 'official': 'Bermuda', '...\n",
       "4      {'common': 'Vatican City', 'official': 'Vatica...\n",
       "                             ...                        \n",
       "245    {'common': 'South Sudan', 'official': 'Republi...\n",
       "246    {'common': 'Honduras', 'official': 'Republic o...\n",
       "247    {'common': 'Saint Vincent and the Grenadines',...\n",
       "248    {'common': 'Sri Lanka', 'official': 'Democrati...\n",
       "249    {'common': 'Hong Kong', 'official': 'Hong Kong...\n",
       "Name: name, Length: 250, dtype: object"
      ]
     },
     "execution_count": 54,
     "metadata": {},
     "output_type": "execute_result"
    }
   ],
   "source": [
    "countries_df = pd.read_json(url)\n"
   ]
  },
  {
   "cell_type": "code",
   "execution_count": 121,
   "metadata": {},
   "outputs": [
    {
     "name": "stderr",
     "output_type": "stream",
     "text": [
      "C:\\Users\\E1005290\\AppData\\Local\\Temp\\ipykernel_6424\\1145936314.py:3: UserWarning: Boolean Series key will be reindexed to match DataFrame index.\n",
      "  countries_names_population_sorted = countries_df.sort_values(by=\"population\",ascending=False)[['common_name','population']][countries_df['population']>10_000_000]\n"
     ]
    },
    {
     "data": {
      "text/plain": [
       "69             China\n",
       "219            India\n",
       "88     United States\n",
       "238        Indonesia\n",
       "58          Pakistan\n",
       "           ...      \n",
       "52           Czechia\n",
       "85            Sweden\n",
       "166         Portugal\n",
       "206           Jordan\n",
       "16        Azerbaijan\n",
       "Name: common_name, Length: 91, dtype: object"
      ]
     },
     "execution_count": 121,
     "metadata": {},
     "output_type": "execute_result"
    }
   ],
   "source": [
    "countries_df = pd.DataFrame(countries)\n",
    "countries_df['common_name'] = countries_df['name'].apply(lambda x: x['common'])\n",
    "countries_names_population_sorted = countries_df.sort_values(by=\"population\",ascending=False)[['common_name','population']][countries_df['population']>10_000_000]\n",
    "countries_names_population_sorted['common_name']"
   ]
  },
  {
   "cell_type": "code",
   "execution_count": 131,
   "metadata": {},
   "outputs": [
    {
     "name": "stdout",
     "output_type": "stream",
     "text": [
      "1. China           -    1402112000\n",
      "2. India           -    1380004385\n",
      "3. United States   -     329484123\n",
      "4. Indonesia       -     273523621\n",
      "5. Pakistan        -     220892331\n",
      "6. Brazil          -     212559409\n",
      "7. Nigeria         -     206139587\n",
      "8. Bangladesh      -     164689383\n",
      "9. Russia          -     144104080\n",
      "10. Mexico          -     128932753\n",
      "11. Japan           -     125836021\n",
      "12. Ethiopia        -     114963583\n",
      "13. Philippines     -     109581085\n",
      "14. DR Congo        -     108407721\n",
      "15. Egypt           -     102334403\n",
      "16. Vietnam         -      97338583\n",
      "17. Turkey          -      84339067\n",
      "18. Iran            -      83992953\n",
      "19. Germany         -      83240525\n",
      "20. Thailand        -      69799978\n",
      "21. France          -      67391582\n",
      "22. United Kingdom  -      67215293\n",
      "23. Tanzania        -      59734213\n",
      "24. Italy           -      59554023\n",
      "25. South Africa    -      59308690\n",
      "26. Myanmar         -      54409794\n",
      "27. Kenya           -      53771300\n",
      "28. South Korea     -      51780579\n",
      "29. Colombia        -      50882884\n",
      "30. Spain           -      47351567\n",
      "31. Uganda          -      45741000\n",
      "32. Argentina       -      45376763\n",
      "33. Algeria         -      44700000\n",
      "34. Ukraine         -      44134693\n",
      "35. Sudan           -      43849269\n",
      "36. Iraq            -      40222503\n",
      "37. Afghanistan     -      40218234\n",
      "38. Canada          -      38005238\n",
      "39. Poland          -      37950802\n",
      "40. Morocco         -      36910558\n",
      "41. Saudi Arabia    -      34813867\n",
      "42. Uzbekistan      -      34232050\n",
      "43. Peru            -      32971846\n",
      "44. Angola          -      32866268\n",
      "45. Malaysia        -      32365998\n",
      "46. Mozambique      -      31255435\n",
      "47. Ghana           -      31072945\n",
      "48. Yemen           -      29825968\n",
      "49. Nepal           -      29136808\n",
      "50. Venezuela       -      28435943\n",
      "51. Madagascar      -      27691019\n",
      "52. Cameroon        -      26545864\n",
      "53. Ivory Coast     -      26378275\n",
      "54. North Korea     -      25778815\n",
      "55. Australia       -      25687041\n",
      "56. Niger           -      24206636\n",
      "57. Taiwan          -      23503349\n",
      "58. Sri Lanka       -      21919000\n",
      "59. Burkina Faso    -      20903278\n",
      "60. Mali            -      20250834\n",
      "61. Romania         -      19286123\n",
      "62. Malawi          -      19129955\n",
      "63. Chile           -      19116209\n",
      "64. Kazakhstan      -      18754440\n",
      "65. Zambia          -      18383956\n",
      "66. Ecuador         -      17643060\n",
      "67. Syria           -      17500657\n",
      "68. Guatemala       -      16858333\n",
      "69. Senegal         -      16743930\n",
      "70. Cambodia        -      16718971\n",
      "71. Netherlands     -      16655799\n",
      "72. Chad            -      16425859\n",
      "73. Somalia         -      15893219\n",
      "74. Zimbabwe        -      14862927\n",
      "75. Guinea          -      13132792\n",
      "76. Rwanda          -      12952209\n",
      "77. Benin           -      12123198\n",
      "78. Burundi         -      11890781\n",
      "79. Tunisia         -      11818618\n",
      "80. Bolivia         -      11673029\n",
      "81. Belgium         -      11555997\n",
      "82. Haiti           -      11402533\n",
      "83. Cuba            -      11326616\n",
      "84. South Sudan     -      11193729\n",
      "85. Dominican Republic -      10847904\n",
      "86. Greece          -      10715549\n",
      "87. Czechia         -      10698896\n",
      "88. Sweden          -      10353442\n",
      "89. Portugal        -      10305564\n",
      "90. Jordan          -      10203140\n",
      "91. Azerbaijan      -      10110116\n"
     ]
    }
   ],
   "source": [
    "country_list = countries_names_population_sorted.apply(lambda x: [x['common_name'], x['population']],axis=1).to_list()\n",
    "\n",
    "for i, country in enumerate(country_list):\n",
    "    print(f'{i+1}. {country[0]:<15} - {country[1]:>13}')"
   ]
  },
  {
   "cell_type": "markdown",
   "metadata": {},
   "source": [
    "# Task 1 \n",
    "Print city name and temperature"
   ]
  },
  {
   "cell_type": "code",
   "execution_count": 153,
   "metadata": {},
   "outputs": [
    {
     "data": {
      "text/plain": [
       "dict"
      ]
     },
     "execution_count": 153,
     "metadata": {},
     "output_type": "execute_result"
    }
   ],
   "source": [
    "weather_url = \"http://api.weatherapi.com/v1/current.json?key=0024363e8dac42d29e693412241503&q=cape%20town&aqi=no\"\n",
    "response = requests.get(weather_url, verify=False)\n",
    "\n",
    "country_weather = response.json() # JSON --> List\n",
    "type(country_weather)"
   ]
  },
  {
   "cell_type": "code",
   "execution_count": 154,
   "metadata": {},
   "outputs": [
    {
     "name": "stdout",
     "output_type": "stream",
     "text": [
      "The temperatue in  Cape Town  is  24.0  °C\n"
     ]
    }
   ],
   "source": [
    "print(\"The temperatue in \",country_weather['location']['name'],\" is \", country_weather['current']['temp_c'], \" °C\")\n"
   ]
  },
  {
   "cell_type": "code",
   "execution_count": 180,
   "metadata": {},
   "outputs": [],
   "source": [
    "def get_place_temp(city_name):\n",
    "    full_url = \"http://api.weatherapi.com/v1/current.json?key=0024363e8dac42d29e693412241503&q=\" + city_name +\"&aqi=no\"\n",
    "    response = requests.get(full_url, verify=False)\n",
    "    country_weather = response.json() \n",
    "    return country_weather['location']['name'], country_weather['current']['temp_c']\n",
    "\n",
    "\n",
    "def get_multi_city_temp(city_list):\n",
    "    return {city: get_place_temp(city)[1] for city in city_list }\n",
    "    # ans ={}\n",
    "    # for city in city_list:\n",
    "    #     key,value = get_place_temp(city)\n",
    "    #     ans[key] = value\n",
    "    # return ans \n",
    "\n"
   ]
  },
  {
   "cell_type": "code",
   "execution_count": 173,
   "metadata": {},
   "outputs": [
    {
     "name": "stdout",
     "output_type": "stream",
     "text": [
      "The temperatue in Cape Town is 25.0 °C\n"
     ]
    }
   ],
   "source": [
    "print(get_place_temp(\" cape town \"))"
   ]
  },
  {
   "cell_type": "code",
   "execution_count": 182,
   "metadata": {},
   "outputs": [
    {
     "data": {
      "text/plain": [
       "{'Johannesburg': 27.0, 'Cape Town': 25.0}"
      ]
     },
     "execution_count": 182,
     "metadata": {},
     "output_type": "execute_result"
    }
   ],
   "source": [
    "city_list = [\"Johannesburg\", \"Cape Town\"]\n",
    "\n",
    "get_multi_city_temp(city_list)"
   ]
  }
 ],
 "metadata": {
  "kernelspec": {
   "display_name": "myenv",
   "language": "python",
   "name": "python3"
  },
  "language_info": {
   "codemirror_mode": {
    "name": "ipython",
    "version": 3
   },
   "file_extension": ".py",
   "mimetype": "text/x-python",
   "name": "python",
   "nbconvert_exporter": "python",
   "pygments_lexer": "ipython3",
   "version": "3.10.8"
  }
 },
 "nbformat": 4,
 "nbformat_minor": 2
}
