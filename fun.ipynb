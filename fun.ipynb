{
 "cells": [
  {
   "cell_type": "code",
   "execution_count": 3,
   "metadata": {},
   "outputs": [
    {
     "data": {
      "text/plain": [
       "[3, 4, 5]"
      ]
     },
     "execution_count": 3,
     "metadata": {},
     "output_type": "execute_result"
    }
   ],
   "source": [
    "nums = [3,4,5]\n",
    "nums "
   ]
  },
  {
   "cell_type": "code",
   "execution_count": 8,
   "metadata": {},
   "outputs": [
    {
     "data": {
      "text/plain": [
       "[5, 6, 7]"
      ]
     },
     "execution_count": 8,
     "metadata": {},
     "output_type": "execute_result"
    }
   ],
   "source": [
    "dbl = [n+2 for n in nums]\n",
    "dbl"
   ]
  },
  {
   "cell_type": "markdown",
   "metadata": {},
   "source": [
    "### Created sumarise post \n",
    "- json load\n",
    "- json dump\n",
    "- list comprehension  "
   ]
  },
  {
   "cell_type": "code",
   "execution_count": 13,
   "metadata": {},
   "outputs": [
    {
     "data": {
      "text/plain": [
       "[{'title': 'The Future of AI', 'author': 'Alice', 'number_of_comments': 2},\n",
       " {'title': 'Learning Python', 'author': 'Bob', 'number_of_comments': 1},\n",
       " {'title': 'Web Development Trends',\n",
       "  'author': 'Charlie',\n",
       "  'number_of_comments': 0}]"
      ]
     },
     "execution_count": 13,
     "metadata": {},
     "output_type": "execute_result"
    }
   ],
   "source": [
    "import json\n",
    "\n",
    "with open(\"blog_post.json\", \"r\") as file:\n",
    "    blog = json.load(file)\n",
    "\n",
    "summarise_post = [\n",
    "    {\n",
    "        \"title\": post[\"title\"],\n",
    "        \"author\": post[\"author\"],\n",
    "        \"number_of_comments\": len(post[\"comments\"]),\n",
    "    }\n",
    "    for post in blog[\"posts\"]\n",
    "]\n",
    "summarise_post"
   ]
  }
 ],
 "metadata": {
  "kernelspec": {
   "display_name": "myenv",
   "language": "python",
   "name": "python3"
  },
  "language_info": {
   "codemirror_mode": {
    "name": "ipython",
    "version": 3
   },
   "file_extension": ".py",
   "mimetype": "text/x-python",
   "name": "python",
   "nbconvert_exporter": "python",
   "pygments_lexer": "ipython3",
   "version": "3.10.8"
  }
 },
 "nbformat": 4,
 "nbformat_minor": 2
}
